{
 "cells": [
  {
   "cell_type": "code",
   "execution_count": 1,
   "id": "afraid-thesis",
   "metadata": {},
   "outputs": [],
   "source": [
    "import jupyter_manim"
   ]
  },
  {
   "cell_type": "code",
   "execution_count": 2,
   "id": "psychological-weather",
   "metadata": {},
   "outputs": [],
   "source": [
    "from manimlib.imports import *"
   ]
  },
  {
   "cell_type": "code",
   "execution_count": 3,
   "id": "detailed-invite",
   "metadata": {},
   "outputs": [
    {
     "data": {
      "text/html": [
       "\n",
       "    <video\n",
       "      width=\"854\"\n",
       "      height=\"480\"\n",
       "      autoplay=\"autoplay\"\n",
       "      controls\n",
       "    >\n",
       "        <source src=\"media/videos/tmpwihm7k0i/480p15/Plot4.mp4\" type=\"video/mp4\">\n",
       "    </video>\n",
       "    "
      ],
      "text/plain": [
       "<IPython.core.display.HTML object>"
      ]
     },
     "execution_count": 3,
     "metadata": {},
     "output_type": "execute_result"
    }
   ],
   "source": [
    "%%manim -l\n",
    "\n",
    "\n",
    "class Plot4(GraphScene):\n",
    "    CONFIG = {\n",
    "        \"y_max\" : 50,\n",
    "        \"y_min\" : -10,\n",
    "        \"x_max\" : 7,\n",
    "        \"x_min\" : -7,\n",
    "        \"y_tick_frequency\" : 5,\n",
    "        \"axes_color\" : BLUE,\n",
    "        \"graph_origin\" : np.array((0,-2,0))\n",
    "    }\n",
    "    def construct(self):\n",
    "        \n",
    "        ###set up the coordinates and left the graph fade in \n",
    "        self.setup_axes()\n",
    "        graph = self.get_graph(lambda x : x**2, color = RED)\n",
    "        func_str = TextMobject(\"f(x) = x**2\")\n",
    "        self.play(FadeIn(func_str))\n",
    "        \n",
    "        \n",
    "        self.play(\n",
    "            FadeIn(graph),\n",
    "            run_time = 2\n",
    "        )\n",
    "        self.play(FadeOut(graph))\n",
    "        self.wait(1)\n",
    "        \n",
    "        \n",
    "        ###the follow code set up the animation \n",
    "        input_ray = list(np.arange(-7,7.5,0.5))\n",
    "        first_row = TextMobject(*[str(i)+\"  \" for i in np.arange(-7,0,0.5)])\n",
    "        second_row = TextMobject(*[str(i)+\"  \" for i in np.arange(0,7.5,0.5)])\n",
    "        \n",
    "        second_row.next_to(first_row, DOWN)\n",
    "        numbers = VGroup(first_row, second_row)\n",
    "        numbers.move_to([-3.5,2,0])\n",
    "        numbers.scale(0.5)\n",
    "        numbers.set_color(YELLOW)\n",
    "        self.play(FadeIn(first_row), FadeIn(second_row))\n",
    "        \n",
    "        \n",
    "        ##3 start moving all the points \n",
    "        x_coord = -7\n",
    "        for row in [first_row, second_row]:\n",
    "            for one_int in row:\n",
    "                one_dot = Dot()\n",
    "                one_dot.set_color(YELLOW)\n",
    "                one_dot.move_to(self.coords_to_point(x_coord, 0))\n",
    "                self.play(Transform(one_int, one_dot, runtime = 0.01))\n",
    "                x_coord += 0.5\n",
    "                \n",
    "        x_coord = -7       \n",
    "        for row in [first_row, second_row]:\n",
    "            for one_int in row:\n",
    "                one_dot = Dot()\n",
    "                one_dot.set_color(RED)\n",
    "                one_dot.move_to(self.coords_to_point(x_coord, x_coord**2))\n",
    "                self.play(Transform(one_int, one_dot, runtime = 0.01) )\n",
    "                x_coord += 0.5\n",
    "        \n",
    "        self.play(ShowCreation(graph))\n",
    "        self.play(FadeOut(numbers, runtime = 2))\n",
    "        \n",
    "        \n",
    "    def setup_axes(self):\n",
    "        GraphScene.setup_axes(self)\n",
    "        self.x_axis.label_direction = DOWN\n",
    "        self.y_axis.label_direction = RIGHT\n",
    "        self.x_axis.add_numbers(*range(-7,7,2)) # 3.5 is rounded to 4\n",
    "        self.y_axis.label_direction = LEFT\n",
    "        self.y_axis.add_numbers(*range(5, 50+5, 10))\n",
    "        self.play(Write(self.x_axis),Write(self.y_axis))\n",
    "\n",
    "\n",
    "            \n",
    "            \n",
    "            \n",
    "            \n",
    "            \n",
    "            \n",
    "        \n",
    "        \n",
    "        \n",
    "        \n",
    "        \n",
    "        \n",
    "            \n",
    "            \n",
    "\n",
    "            \n",
    "            \n",
    "        \n",
    "        \n",
    "        \n",
    "        \n",
    "        \n"
   ]
  },
  {
   "cell_type": "markdown",
   "id": "natural-capture",
   "metadata": {},
   "source": []
  },
  {
   "cell_type": "code",
   "execution_count": 14,
   "id": "integrated-concentration",
   "metadata": {},
   "outputs": [
    {
     "name": "stdout",
     "output_type": "stream",
     "text": [
      "usage: manim [-h] [-p] [-w] [-s] [-l] [-m] [--high_quality] [-g] [-i] [-f]\n",
      "             [-t] [-q] [-a] [-o FILE_NAME] [-n START_AT_ANIMATION_NUMBER]\n",
      "             [-r RESOLUTION] [-c COLOR] [--sound] [--leave_progress_bars]\n",
      "             [--media_dir MEDIA_DIR]\n",
      "             [--video_dir VIDEO_DIR | --video_output_dir VIDEO_OUTPUT_DIR]\n",
      "             [--tex_dir TEX_DIR]\n",
      "             file [scene_names ...]\n",
      "\n",
      "positional arguments:\n",
      "  file                  path to file holding the python code for the scene\n",
      "  scene_names           Name of the Scene class you want to see\n",
      "\n",
      "optional arguments:\n",
      "  -h, --help            show this help message and exit\n",
      "  -p, --preview         Automatically open the saved file once its done\n",
      "  -w, --write_to_movie  Render the scene as a movie file\n",
      "  -s, --save_last_frame\n",
      "                        Save the last frame\n",
      "  -l, --low_quality     Render at a low quality (for faster rendering)\n",
      "  -m, --medium_quality  Render at a medium quality\n",
      "  --high_quality        Render at a high quality\n",
      "  -g, --save_pngs       Save each frame as a png\n",
      "  -i, --save_as_gif     Save the video as gif\n",
      "  -f, --show_file_in_finder\n",
      "                        Show the output file in finder\n",
      "  -t, --transparent     Render to a movie file with an alpha channel\n",
      "  -q, --quiet\n",
      "  -a, --write_all       Write all the scenes from a file\n",
      "  -o FILE_NAME, --file_name FILE_NAME\n",
      "                        Specify the name of the output file, ifit should be\n",
      "                        different from the scene class name\n",
      "  -n START_AT_ANIMATION_NUMBER, --start_at_animation_number START_AT_ANIMATION_NUMBER\n",
      "                        Start rendering not from the first animation, butfrom\n",
      "                        another, specified by its index. If you passin two\n",
      "                        comma separated values, e.g. \"3,6\", it will endthe\n",
      "                        rendering at the second value\n",
      "  -r RESOLUTION, --resolution RESOLUTION\n",
      "                        Resolution, passed as \"height,width\"\n",
      "  -c COLOR, --color COLOR\n",
      "                        Background color\n",
      "  --sound               Play a success/failure sound\n",
      "  --leave_progress_bars\n",
      "                        Leave progress bars displayed in terminal\n",
      "  --media_dir MEDIA_DIR\n",
      "                        directory to write media\n",
      "  --video_dir VIDEO_DIR\n",
      "                        directory to write file tree for video\n",
      "  --video_output_dir VIDEO_OUTPUT_DIR\n",
      "                        directory to write video\n",
      "  --tex_dir TEX_DIR     directory to write tex\n",
      "\n"
     ]
    },
    {
     "name": "stderr",
     "output_type": "stream",
     "text": [
      "\n"
     ]
    }
   ],
   "source": [
    "%%manim -h\n",
    "pass"
   ]
  },
  {
   "cell_type": "code",
   "execution_count": null,
   "id": "flush-object",
   "metadata": {},
   "outputs": [],
   "source": []
  }
 ],
 "metadata": {
  "kernelspec": {
   "display_name": "Python 3",
   "language": "python",
   "name": "python3"
  },
  "language_info": {
   "codemirror_mode": {
    "name": "ipython",
    "version": 3
   },
   "file_extension": ".py",
   "mimetype": "text/x-python",
   "name": "python",
   "nbconvert_exporter": "python",
   "pygments_lexer": "ipython3",
   "version": "3.9.1"
  }
 },
 "nbformat": 4,
 "nbformat_minor": 5
}

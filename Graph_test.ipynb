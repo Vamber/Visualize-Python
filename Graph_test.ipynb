{
 "cells": [
  {
   "cell_type": "code",
   "execution_count": 2,
   "id": "afraid-thesis",
   "metadata": {},
   "outputs": [],
   "source": [
    "import jupyter_manim"
   ]
  },
  {
   "cell_type": "code",
   "execution_count": 3,
   "id": "psychological-weather",
   "metadata": {},
   "outputs": [],
   "source": [
    "from manimlib.imports import *"
   ]
  },
  {
   "cell_type": "code",
   "execution_count": 9,
   "id": "disciplinary-domain",
   "metadata": {},
   "outputs": [
    {
     "data": {
      "text/html": [
       "\n",
       "    <video\n",
       "      width=\"854\"\n",
       "      height=\"480\"\n",
       "      autoplay=\"autoplay\"\n",
       "      controls\n",
       "    >\n",
       "        <source src=\"media/videos/tmpzjd45kqh/1440p60/TypesOfText2.mp4\" type=\"video/mp4\">\n",
       "    </video>\n",
       "    "
      ],
      "text/plain": [
       "<IPython.core.display.HTML object>"
      ]
     },
     "execution_count": 9,
     "metadata": {},
     "output_type": "execute_result"
    }
   ],
   "source": [
    "%%manim\n",
    "\n",
    "class TypesOfText2(Scene): \n",
    "    def construct(self):\n",
    "        input_ray = list(np.arange(-7,7.5,0.5))\n",
    "        first_row = TextMobject(*[str(i)+\"  \" for i in np.arange(-7,0,0.5)])\n",
    "        second_row = TextMobject(*[str(i)+\"  \" for i in np.arange(0,7.5,0.5)])\n",
    "        \n",
    "        first_row.scale(0.7)\n",
    "        second_row.scale(0.7)\n",
    "        second_row.next_to(first_row, DOWN)\n",
    "        numbers = VGroup(first_row, second_row)\n",
    "        numbers.move_to([-4,2,0])\n",
    "        numbers.scale(0.5)\n",
    "        numbers.set_color(YELLOW)\n",
    "        \n",
    "        self.play(FadeIn(first_row), FadeIn(second_row))\n",
    "\n",
    "\n",
    "        one_int = first_row[0]\n",
    "        one_int.generate_target()\n",
    "        one_int.target.move_to([3,3,0])\n",
    "        one_dot = Dot()\n",
    "        one_dot.move_to(one_int.target.get_center())\n",
    "        self.play(MoveToTarget(one_int), Transform(one_int,one_dot))\n",
    "        self.wait(1)\n",
    "        one_int.generate_target()\n",
    "        one_int.target.move_to([-2,3,0])\n",
    "        self.play(MoveToTarget(one_int))\n",
    "        \n",
    "\n",
    "\n",
    "        \n",
    "        "
   ]
  },
  {
   "cell_type": "markdown",
   "id": "natural-capture",
   "metadata": {},
   "source": []
  }
 ],
 "metadata": {
  "kernelspec": {
   "display_name": "Python 3",
   "language": "python",
   "name": "python3"
  },
  "language_info": {
   "codemirror_mode": {
    "name": "ipython",
    "version": 3
   },
   "file_extension": ".py",
   "mimetype": "text/x-python",
   "name": "python",
   "nbconvert_exporter": "python",
   "pygments_lexer": "ipython3",
   "version": "3.9.1"
  }
 },
 "nbformat": 4,
 "nbformat_minor": 5
}

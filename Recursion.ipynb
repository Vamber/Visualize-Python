{
 "cells": [
  {
   "cell_type": "code",
   "execution_count": 1,
   "id": "afraid-thesis",
   "metadata": {},
   "outputs": [],
   "source": [
    "import jupyter_manim"
   ]
  },
  {
   "cell_type": "code",
   "execution_count": 2,
   "id": "psychological-weather",
   "metadata": {},
   "outputs": [],
   "source": [
    "from manimlib.imports import *"
   ]
  },
  {
   "cell_type": "code",
   "execution_count": 3,
   "id": "detailed-invite",
   "metadata": {},
   "outputs": [
    {
     "data": {
      "text/html": [
       "\n",
       "    <video\n",
       "      width=\"854\"\n",
       "      height=\"480\"\n",
       "      autoplay=\"autoplay\"\n",
       "      controls\n",
       "    >\n",
       "        <source src=\"media/videos/tmpt3qg03ve/480p5/Recursion.mp4\" type=\"video/mp4\">\n",
       "    </video>\n",
       "    "
      ],
      "text/plain": [
       "<IPython.core.display.HTML object>"
      ]
     },
     "execution_count": 3,
     "metadata": {},
     "output_type": "execute_result"
    }
   ],
   "source": [
    "%%manim -l\n",
    "\n",
    "\n",
    "class Recursion(Scene):\n",
    "     \n",
    "    def construct(self):\n",
    "        \n",
    "        fac = lambda x: 1 if x == 1 else x * fac(x-1)\n",
    "        \n",
    "        n = 5\n",
    "        \n",
    "        initial_position = np.array([-7.5,3,0])\n",
    "        code_blocks = [ ]\n",
    "        rec_posi = []\n",
    "        \n",
    "        rec = Rectangle(height = 1.5, width =3.9, stroke_width=0.8)\n",
    "        rec.set_color(YELLOW)\n",
    "        \n",
    "        ###creating the recursive call\n",
    "        for i in range(n, 0, -1):\n",
    "            code = self.one_code(initial_position, i)\n",
    "            rec.move_to(code.get_center())\n",
    "            rec.shift(UP*0.2)\n",
    "            rec_posi.append(rec.get_center())\n",
    "            \n",
    "            code_blocks.append(code)\n",
    "            self.play(ShowCreation(rec))\n",
    "            self.play(Write(code))\n",
    "            \n",
    "            if i != 1:\n",
    "                self.play(FadeOut(code[0]), FadeOut(code[1]))\n",
    "                \n",
    "            else:\n",
    "                self.play(FadeOut(code[2]), FadeOut(code[3]), FadeOut(code[4]))\n",
    "                \n",
    "            self.play(FadeOut(rec))\n",
    "            initial_position = code.get_center() + DOWN * 0.2 \n",
    "            \n",
    "        rec.set_color(BLUE)\n",
    "        ### the recursive call coming back \n",
    "        for i in range(n-1, 0, -1):\n",
    "            \n",
    "            \n",
    "            cur_n = n - i\n",
    "            code = code_blocks[i]\n",
    "            prev = code_blocks[i-1][-1]\n",
    "            \n",
    "            rec.move_to(rec_posi[i])\n",
    "\n",
    "            \n",
    "            returned_val = TextMobject(str(fac(cur_n)))\n",
    "            returned_val.scale(0.5)\n",
    "            returned_val.set_color(BLUE)\n",
    "            returned_val.move_to(prev.get_center() + LEFT *0.5)\n",
    "            \n",
    "            \n",
    "            \n",
    "            \n",
    "            if i != n-1:\n",
    "                code = VGroup(code[2], code[3], code[4])\n",
    "            else:\n",
    "                code = VGroup(code[0], code[1])\n",
    "                \n",
    "            self.play(FadeIn(rec, run_time = 1))\n",
    "            self.play(FadeOut(prev))\n",
    "            prev.become(returned_val)\n",
    "            self.play(ReplacementTransform(code, prev, run_time = 2))\n",
    "            self.remove(returned_val)\n",
    "            self.play(FadeOut(rec))\n",
    "            \n",
    "            \n",
    "        \n",
    "    \n",
    "    def one_code(self, position, val):\n",
    "        \n",
    "        \n",
    "        line_2_1 = TextMobject(\"if \", str(val) + \" == 1 :\")\n",
    "        line_2_1[0].set_color(PINK)\n",
    "        line_2_1.move_to(position)\n",
    "        line_3_1 = TextMobject(\" return\", \" 1\")\n",
    "        line_3_1[0].set_color(GREEN_SCREEN)\n",
    "        line_3_1.next_to(line_2_1, RIGHT + DOWN*0.2)\n",
    "        \n",
    "        line_4_1 = TextMobject(\"else\", \" :\")\n",
    "        line_4_1[0].set_color(PINK)\n",
    "        line_4_1.next_to(line_2_1, DOWN * 2 )\n",
    "        line_4_1.shift(RIGHT*0.65)\n",
    "        line_5_1 = TextMobject(\"return \", str(val) + \" *   \")\n",
    "        line_5_2 = TextMobject(\"factorial\", \"(\"+ str(val - 1) + \")\")\n",
    "        line_5_2[0].set_color(BLUE)\n",
    "        line_5_1[0].set_color(GREEN_SCREEN)\n",
    "        line_5_1.next_to(line_4_1, DOWN + RIGHT)\n",
    "        line_5_2.next_to(line_5_1, RIGHT)\n",
    "        V_obj = VGroup( line_2_1, line_3_1, line_4_1, line_5_1, line_5_2)\n",
    "\n",
    "        V_obj.scale(0.5)\n",
    "        return V_obj\n",
    "        \n",
    "        \n",
    "        \n",
    "\n",
    "\n",
    "            \n",
    "            \n",
    "            \n",
    "            \n",
    "            \n",
    "            \n",
    "        \n",
    "        \n",
    "        \n",
    "        \n",
    "        \n",
    "        \n",
    "            \n",
    "            \n",
    "\n",
    "            \n",
    "            \n",
    "        \n",
    "        \n",
    "        \n",
    "        \n",
    "        \n"
   ]
  },
  {
   "cell_type": "code",
   "execution_count": 5,
   "id": "previous-graduation",
   "metadata": {},
   "outputs": [
    {
     "data": {
      "text/html": [
       "\n",
       "    <video\n",
       "      width=\"854\"\n",
       "      height=\"480\"\n",
       "      autoplay=\"autoplay\"\n",
       "      controls\n",
       "    >\n",
       "        <source src=\"media/videos/tmp3m3e8gyv/1440p60/lineofcode.mp4\" type=\"video/mp4\">\n",
       "    </video>\n",
       "    "
      ],
      "text/plain": [
       "<IPython.core.display.HTML object>"
      ]
     },
     "execution_count": 5,
     "metadata": {},
     "output_type": "execute_result"
    }
   ],
   "source": [
    "%%manim \n",
    "\n",
    "class lineofcode(Scene):\n",
    "     \n",
    "    def construct(self):\n",
    "        mycode = Code(\"intro_1.py\", language = \"py\", sytle = \"python\")\n",
    "        self.play(FadeIn(mycode))\n",
    "        \n",
    "    def \n",
    "                      \n",
    "        \n",
    "       "
   ]
  },
  {
   "cell_type": "markdown",
   "id": "natural-capture",
   "metadata": {},
   "source": []
  }
 ],
 "metadata": {
  "kernelspec": {
   "display_name": "Python 3",
   "language": "python",
   "name": "python3"
  },
  "language_info": {
   "codemirror_mode": {
    "name": "ipython",
    "version": 3
   },
   "file_extension": ".py",
   "mimetype": "text/x-python",
   "name": "python",
   "nbconvert_exporter": "python",
   "pygments_lexer": "ipython3",
   "version": "3.9.1"
  }
 },
 "nbformat": 4,
 "nbformat_minor": 5
}

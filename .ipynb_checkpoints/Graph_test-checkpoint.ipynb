{
 "cells": [
  {
   "cell_type": "code",
   "execution_count": 17,
   "id": "afraid-thesis",
   "metadata": {},
   "outputs": [],
   "source": [
    "import jupyter_manim"
   ]
  },
  {
   "cell_type": "code",
   "execution_count": 18,
   "id": "psychological-weather",
   "metadata": {},
   "outputs": [],
   "source": [
    "from manimlib.imports import *"
   ]
  },
  {
   "cell_type": "code",
   "execution_count": 19,
   "id": "disciplinary-domain",
   "metadata": {},
   "outputs": [
    {
     "name": "stdout",
     "output_type": "stream",
     "text": [
      "Media will be written to /Users/vamber/Essense of Python/media/. You can change this behavior with the --media_dir flag.\n",
      "Writing \"\\centering hello\" to /Users/vamber/Essense of Python/media/Tex/fb7a99c91619285c.tex\n",
      "Writing \"hello\" to /Users/vamber/Essense of Python/media/Tex/214b228cdd95d703.tex\n",
      "No animations in this scene\n",
      "Played 0 animations\n",
      "\n"
     ]
    },
    {
     "name": "stderr",
     "output_type": "stream",
     "text": [
      "/var/folders/xh/21_bz88d5dxcpnd1gsd1rr8r0000gn/T/tmp94uh4bwv.py:38: UserWarning: Import from notebook: name already in the globals(), skipping\n",
      "  warn('Import from notebook: ' + name + ' already in the globals(), skipping')\n",
      "\n"
     ]
    }
   ],
   "source": [
    "%%manim Number \n",
    "\n",
    "class Number(Scene):\n",
    "    \n",
    "    def construct(self):\n",
    "        one_t = TextMobject(\"hello\")\n",
    "        self.add(one_t)"
   ]
  },
  {
   "cell_type": "code",
   "execution_count": 20,
   "id": "detailed-invite",
   "metadata": {},
   "outputs": [
    {
     "data": {
      "text/html": [
       "\n",
       "    <video\n",
       "      width=\"854\"\n",
       "      height=\"480\"\n",
       "      autoplay=\"autoplay\"\n",
       "      controls\n",
       "    >\n",
       "        <source src=\"media/videos/tmpscb0iuep/480p15/Plot4.mp4\" type=\"video/mp4\">\n",
       "    </video>\n",
       "    "
      ],
      "text/plain": [
       "<IPython.core.display.HTML object>"
      ]
     },
     "execution_count": 20,
     "metadata": {},
     "output_type": "execute_result"
    }
   ],
   "source": [
    "%%manim -l\n",
    "\n",
    "\n",
    "class Plot4(GraphScene):\n",
    "    CONFIG = {\n",
    "        \"y_max\" : 50,\n",
    "        \"y_min\" : -10,\n",
    "        \"x_max\" : 7,\n",
    "        \"x_min\" : -7,\n",
    "        \"y_tick_frequency\" : 5,\n",
    "        \"axes_color\" : BLUE,\n",
    "        \"graph_origin\" : np.array((0,-2,0))\n",
    "    }\n",
    "    def construct(self):\n",
    "        self.setup_axes()\n",
    "        graph = self.get_graph(lambda x : x**2, color = GREEN)\n",
    "        \n",
    "        func_str = TextMobject(\"f(x) = x**2\")\n",
    "        self.play(FadeIn(func_str))\n",
    "        \n",
    "        \n",
    "        \n",
    "        one_dot = Dot()\n",
    "        self.add(one_dot)\n",
    "        one_dot.generate_target()\n",
    "        one_dot.target.move_to(self.coords_to_point(-2, 21))\n",
    "        \n",
    "        self.play(\n",
    "            FadeIn(graph),\n",
    "            run_time = 2\n",
    "        )\n",
    "        \n",
    "        \n",
    "        self.play(MoveToTarget(one_dot))\n",
    "        self.wait()\n",
    "\n",
    "    def setup_axes(self):\n",
    "        GraphScene.setup_axes(self)\n",
    "        self.x_axis.label_direction = DOWN\n",
    "        self.x_axis.add_numbers(*range(-7,7,2)) # 3.5 is rounded to 4\n",
    "        self.y_axis.label_direction = LEFT\n",
    "        self.y_axis.add_numbers(*range(5, 50+5, 10))\n",
    "        self.play(Write(self.x_axis),Write(self.y_axis))\n",
    "\n",
    "\n",
    "            \n",
    "            \n",
    "            \n",
    "            \n",
    "            \n",
    "            \n",
    "        \n",
    "        \n",
    "        \n",
    "        \n",
    "        \n",
    "        \n",
    "            \n",
    "            \n",
    "\n",
    "            \n",
    "            \n",
    "        \n",
    "        \n",
    "        \n",
    "        \n",
    "        \n"
   ]
  },
  {
   "cell_type": "markdown",
   "id": "natural-capture",
   "metadata": {},
   "source": []
  }
 ],
 "metadata": {
  "kernelspec": {
   "display_name": "Python 3",
   "language": "python",
   "name": "python3"
  },
  "language_info": {
   "codemirror_mode": {
    "name": "ipython",
    "version": 3
   },
   "file_extension": ".py",
   "mimetype": "text/x-python",
   "name": "python",
   "nbconvert_exporter": "python",
   "pygments_lexer": "ipython3",
   "version": "3.9.1"
  }
 },
 "nbformat": 4,
 "nbformat_minor": 5
}
